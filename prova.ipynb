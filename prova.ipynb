{
 "cells": [
  {
   "cell_type": "markdown",
   "metadata": {},
   "source": [
    "# Prova tensorflow e keras"
   ]
  },
  {
   "cell_type": "code",
   "execution_count": null,
   "metadata": {},
   "outputs": [],
   "source": [
    "import tensorflow as tf #attenzione alle differenze fra tensorflow 1 e 2\n",
    "import os\n",
    "\n",
    "# tf.compat.v1.enable_eager_execution() // per usare tf1 come tf2\n",
    "\n",
    "os.environ[\"TF_CPP_MIN_LOG_LEVEL\"]= \"2\""
   ]
  }
 ],
 "metadata": {
  "interpreter": {
   "hash": "c510962207cb95752e4f598bc83176b884590b9cbf1b2130252586159680fd76"
  },
  "kernelspec": {
   "display_name": "Python 3.9.10 ('tutorial-env')",
   "language": "python",
   "name": "python3"
  },
  "language_info": {
   "name": "python",
   "version": "3.9.11"
  },
  "orig_nbformat": 4
 },
 "nbformat": 4,
 "nbformat_minor": 2
}
